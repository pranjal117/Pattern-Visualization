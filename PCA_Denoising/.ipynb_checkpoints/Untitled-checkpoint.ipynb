{
 "cells": [
  {
   "cell_type": "code",
   "execution_count": 3,
   "metadata": {},
   "outputs": [
    {
     "ename": "ModuleNotFoundError",
     "evalue": "No module named 'mlxtend'",
     "output_type": "error",
     "traceback": [
      "\u001b[1;31m---------------------------------------------------------------------------\u001b[0m",
      "\u001b[1;31mModuleNotFoundError\u001b[0m                       Traceback (most recent call last)",
      "\u001b[1;32m<ipython-input-3-b6ed36852649>\u001b[0m in \u001b[0;36m<module>\u001b[1;34m\u001b[0m\n\u001b[1;32m----> 1\u001b[1;33m \u001b[1;32mfrom\u001b[0m \u001b[0mmlxtend\u001b[0m\u001b[1;33m.\u001b[0m\u001b[0mdata\u001b[0m \u001b[1;32mimport\u001b[0m \u001b[0mloadlocal_mnist\u001b[0m\u001b[1;33m\u001b[0m\u001b[1;33m\u001b[0m\u001b[0m\n\u001b[0m\u001b[0;32m      2\u001b[0m \u001b[1;32mimport\u001b[0m \u001b[0mplatform\u001b[0m\u001b[1;33m\u001b[0m\u001b[1;33m\u001b[0m\u001b[0m\n\u001b[0;32m      3\u001b[0m \u001b[1;32mimport\u001b[0m \u001b[0mnumpy\u001b[0m \u001b[1;32mas\u001b[0m \u001b[0mnp\u001b[0m\u001b[1;33m\u001b[0m\u001b[1;33m\u001b[0m\u001b[0m\n\u001b[0;32m      4\u001b[0m \u001b[1;32mfrom\u001b[0m \u001b[0mnumpy\u001b[0m \u001b[1;32mimport\u001b[0m \u001b[0mlinalg\u001b[0m \u001b[1;32mas\u001b[0m \u001b[0mLA\u001b[0m\u001b[1;33m\u001b[0m\u001b[1;33m\u001b[0m\u001b[0m\n\u001b[0;32m      5\u001b[0m \u001b[1;32mimport\u001b[0m \u001b[0mmatplotlib\u001b[0m\u001b[1;33m.\u001b[0m\u001b[0mpyplot\u001b[0m \u001b[1;32mas\u001b[0m \u001b[0mplt\u001b[0m\u001b[1;33m\u001b[0m\u001b[1;33m\u001b[0m\u001b[0m\n",
      "\u001b[1;31mModuleNotFoundError\u001b[0m: No module named 'mlxtend'"
     ]
    }
   ],
   "source": [
    "from mlxtend.data import loadlocal_mnist\n",
    "import platform\n",
    "import numpy as np\n",
    "from numpy import linalg as LA\n",
    "import matplotlib.pyplot as plt\n"
   ]
  },
  {
   "cell_type": "code",
   "execution_count": 2,
   "metadata": {},
   "outputs": [
    {
     "ename": "NameError",
     "evalue": "name 'platform' is not defined",
     "output_type": "error",
     "traceback": [
      "\u001b[1;31m---------------------------------------------------------------------------\u001b[0m",
      "\u001b[1;31mNameError\u001b[0m                                 Traceback (most recent call last)",
      "\u001b[1;32m<ipython-input-2-0af6122c8217>\u001b[0m in \u001b[0;36m<module>\u001b[1;34m\u001b[0m\n\u001b[1;32m----> 1\u001b[1;33m \u001b[1;32mif\u001b[0m \u001b[1;32mnot\u001b[0m \u001b[0mplatform\u001b[0m\u001b[1;33m.\u001b[0m\u001b[0msystem\u001b[0m\u001b[1;33m(\u001b[0m\u001b[1;33m)\u001b[0m \u001b[1;33m==\u001b[0m \u001b[1;34m'Windows'\u001b[0m\u001b[1;33m:\u001b[0m\u001b[1;33m\u001b[0m\u001b[1;33m\u001b[0m\u001b[0m\n\u001b[0m\u001b[0;32m      2\u001b[0m     X, y = loadlocal_mnist(\n\u001b[0;32m      3\u001b[0m             \u001b[0mimages_path\u001b[0m\u001b[1;33m=\u001b[0m\u001b[1;34m'train-images-idx3-ubyte'\u001b[0m\u001b[1;33m,\u001b[0m\u001b[1;33m\u001b[0m\u001b[1;33m\u001b[0m\u001b[0m\n\u001b[0;32m      4\u001b[0m             labels_path='train-labels-idx1-ubyte')\n\u001b[0;32m      5\u001b[0m \u001b[1;33m\u001b[0m\u001b[0m\n",
      "\u001b[1;31mNameError\u001b[0m: name 'platform' is not defined"
     ]
    }
   ],
   "source": [
    "if not platform.system() == 'Windows':\n",
    "    X, y = loadlocal_mnist(\n",
    "            images_path='train-images-idx3-ubyte', \n",
    "            labels_path='train-labels-idx1-ubyte')\n",
    "\n",
    "else:\n",
    "    X, y = loadlocal_mnist(\n",
    "            images_path='train-images.idx3-ubyte', \n",
    "            labels_path='train-labels.idx1-ubyte')"
   ]
  },
  {
   "cell_type": "code",
   "execution_count": 1,
   "metadata": {},
   "outputs": [
    {
     "ename": "NameError",
     "evalue": "name 'Y' is not defined",
     "output_type": "error",
     "traceback": [
      "\u001b[1;31m---------------------------------------------------------------------------\u001b[0m",
      "\u001b[1;31mNameError\u001b[0m                                 Traceback (most recent call last)",
      "\u001b[1;32m<ipython-input-1-199a3b604cd7>\u001b[0m in \u001b[0;36m<module>\u001b[1;34m\u001b[0m\n\u001b[1;32m----> 1\u001b[1;33m \u001b[0mprint\u001b[0m\u001b[1;33m(\u001b[0m\u001b[0mY\u001b[0m\u001b[1;33m)\u001b[0m\u001b[1;33m\u001b[0m\u001b[1;33m\u001b[0m\u001b[0m\n\u001b[0m\u001b[0;32m      2\u001b[0m \u001b[0mprint\u001b[0m\u001b[1;33m(\u001b[0m\u001b[1;34m'Dimensions: %s x %s'\u001b[0m \u001b[1;33m%\u001b[0m \u001b[1;33m(\u001b[0m\u001b[0mX\u001b[0m\u001b[1;33m.\u001b[0m\u001b[0mshape\u001b[0m\u001b[1;33m[\u001b[0m\u001b[1;36m0\u001b[0m\u001b[1;33m]\u001b[0m\u001b[1;33m,\u001b[0m \u001b[0mX\u001b[0m\u001b[1;33m.\u001b[0m\u001b[0mshape\u001b[0m\u001b[1;33m[\u001b[0m\u001b[1;36m1\u001b[0m\u001b[1;33m]\u001b[0m\u001b[1;33m)\u001b[0m\u001b[1;33m)\u001b[0m\u001b[1;33m\u001b[0m\u001b[1;33m\u001b[0m\u001b[0m\n\u001b[0;32m      3\u001b[0m \u001b[0mX\u001b[0m\u001b[1;33m.\u001b[0m\u001b[0mshape\u001b[0m\u001b[1;33m\u001b[0m\u001b[1;33m\u001b[0m\u001b[0m\n",
      "\u001b[1;31mNameError\u001b[0m: name 'Y' is not defined"
     ]
    }
   ],
   "source": [
    "print(Y)\n",
    "print('Dimensions: %s x %s' % (X.shape[0], X.shape[1]))\n",
    "X.shape"
   ]
  },
  {
   "cell_type": "code",
   "execution_count": 4,
   "metadata": {},
   "outputs": [],
   "source": [
    "np.savetxt(fname='images.csv', \n",
    "           X=X, delimiter=',', fmt='%d')\n",
    "np.savetxt(fname='labels.csv', \n",
    "           X=y, delimiter=',', fmt='%d')"
   ]
  },
  {
   "cell_type": "code",
   "execution_count": 6,
   "metadata": {},
   "outputs": [],
   "source": [
    "class PCA():\n",
    "    def __init__(self,data,k):\n",
    "        self.data = data\n",
    "        self.k = k\n",
    "    \n",
    "    def pca(self):\n",
    "        self.show9Digits(self.data)\n",
    "        self.colMean = np.mean(self.data,axis = 0)\n",
    "        self.data = self.data - self.colMean\n",
    "        \n",
    "        self.cov = np.matmul(self.data.T,self.data)\n",
    "        lambdas,vs = self.sorted_eig()\n",
    "        print(lambdas)\n",
    "        W = vs[:,0:self.k]\n",
    "        \n",
    "        self.trans_digits = np.matmul(self.data,W)\n",
    "        self.proj_digits = np.matmul(self.trans_digits,W.T) + self.colMean\n",
    "        self.show9Digits(self.proj_digits)        \n",
    "    \n",
    "    def sorted_eig(self):   \n",
    "        lambdas, vs = LA.eig(self.cov)\n",
    "        return lambdas, np.array(vs)\n",
    "    \n",
    "    def show9Digits(self,data):\n",
    "        for i in range(9):  \n",
    "            plt.subplot(330 + 1 + i)\n",
    "            plt.imshow(np.reshape(data[i],(28,28)), cmap=plt.get_cmap('gray'))\n",
    "        plt.show()"
   ]
  },
  {
   "cell_type": "code",
   "execution_count": 7,
   "metadata": {},
   "outputs": [],
   "source": [
    "p = PCA(X,10)\n"
   ]
  },
  {
   "cell_type": "code",
   "execution_count": 8,
   "metadata": {
    "scrolled": true
   },
   "outputs": [
    {
     "data": {
      "image/png": "[encoded data removed]",
      "text/plain": [
       "<Figure size 432x288 with 9 Axes>"
      ]
     },
     "metadata": {
      "needs_background": "light"
     },
     "output_type": "display_data"
    },
    {
     "name": "stdout",
     "output_type": "stream",
     "text": [
      "[ 1.99631473e+10  1.45967931e+10  1.26902305e+10  1.10863984e+10\n",
      "  1.00154430e+10  8.87054986e+09  6.73057998e+09  5.93236690e+09\n",
      "  5.68168025e+09  4.84850866e+09  4.33874490e+09  4.16142872e+09\n",
      "  3.52955344e+09  3.48078703e+09  3.24737129e+09  3.05053327e+09\n",
      "  2.72471097e+09  2.62666377e+09  2.44227972e+09  2.37114790e+09\n",
      "  2.19317560e+09  2.07087712e+09  1.96156447e+09  1.87716386e+09\n",
      "  1.81722287e+09  1.72653592e+09  1.67152927e+09  1.61760793e+09\n",
      "  1.53196608e+09  1.42114369e+09  1.35374315e+09  1.33328376e+09\n",
      "  1.23961965e+09  1.20663901e+09  1.17257251e+09  1.11827889e+09\n",
      "  1.04043668e+09  1.00355796e+09  9.90332537e+08  9.71483598e+08\n",
      "  9.39559137e+08  9.15057596e+08  8.60885382e+08  8.19155736e+08\n",
      "  7.91918661e+08  7.71612896e+08  7.44676557e+08  7.23246904e+08\n",
      "  6.99522600e+08  6.62117428e+08  6.56239530e+08  6.43460799e+08\n",
      "  6.08856256e+08  5.94399046e+08  5.84475339e+08  5.54423758e+08\n",
      "  5.58361721e+08  5.31695411e+08  5.22023180e+08  5.03530898e+08\n",
      "  4.94737291e+08  4.92179881e+08  4.73965760e+08  4.55706495e+08\n",
      "  4.39638093e+08  4.26276256e+08  4.17672431e+08  4.04795076e+08\n",
      "  3.96710758e+08  3.88029696e+08  3.84624400e+08  3.72499875e+08\n",
      "  3.59777100e+08  3.65257186e+08  3.40975807e+08  3.37140821e+08\n",
      "  3.32138428e+08  3.19084916e+08  3.03649816e+08  2.94522797e+08\n",
      "  2.92297384e+08  2.90361605e+08  2.88348199e+08  2.79218787e+08\n",
      "  2.75332574e+08  2.72348163e+08  2.67742218e+08  2.58929411e+08\n",
      "  2.52665786e+08  2.50107465e+08  2.40747760e+08  2.36302702e+08\n",
      "  2.32950901e+08  2.28099219e+08  2.24224053e+08  2.19948284e+08\n",
      "  2.13949015e+08  2.14338128e+08  2.08290979e+08  2.06791327e+08\n",
      "  2.02418976e+08  1.95356844e+08  1.93640145e+08  1.88461588e+08\n",
      "  1.84492654e+08  1.86750991e+08  1.75914657e+08  1.78016810e+08\n",
      "  1.73949710e+08  1.69192883e+08  1.62834205e+08  1.61398876e+08\n",
      "  1.61672876e+08  1.58153822e+08  1.57163126e+08  1.54915341e+08\n",
      "  1.51561204e+08  1.49575928e+08  1.48037183e+08  1.45396864e+08\n",
      "  1.43053485e+08  1.42382197e+08  1.40560095e+08  1.38658789e+08\n",
      "  1.37181046e+08  1.32735502e+08  1.30745991e+08  1.29933888e+08\n",
      "  1.28141649e+08  1.24162249e+08  1.24512274e+08  1.16300229e+08\n",
      "  1.22288734e+08  1.18658085e+08  1.21018859e+08  1.20651121e+08\n",
      "  1.19585731e+08  1.14118784e+08  1.10088134e+08  1.08015206e+08\n",
      "  1.08186385e+08  1.04963283e+08  1.03464475e+08  1.02588583e+08\n",
      "  1.03075086e+08  1.01016380e+08  9.98783459e+07  9.93247387e+07\n",
      "  9.75078312e+07  9.63430121e+07  9.59825437e+07  9.53096623e+07\n",
      "  9.44798085e+07  9.10684095e+07  9.26461705e+07  9.23227003e+07\n",
      "  8.98268478e+07  8.79290327e+07  8.74210840e+07  8.68107892e+07\n",
      "  8.42650986e+07  8.54739288e+07  8.24521466e+07  8.18470618e+07\n",
      "  8.03271535e+07  8.10650582e+07  7.93724712e+07  7.79421064e+07\n",
      "  7.81225907e+07  7.69218381e+07  7.59910612e+07  7.29522916e+07\n",
      "  7.40286283e+07  7.51139526e+07  7.48388365e+07  7.25934858e+07\n",
      "  7.14395696e+07  7.11657317e+07  7.02379568e+07  6.93425043e+07\n",
      "  6.94559911e+07  6.70413335e+07  6.79299205e+07  6.75448028e+07\n",
      "  6.50393237e+07  6.64318609e+07  6.60872212e+07  6.52705980e+07\n",
      "  6.39629731e+07  6.29393390e+07  6.20347162e+07  6.23856588e+07\n",
      "  6.36738177e+07  6.22078329e+07  6.10346682e+07  6.03691094e+07\n",
      "  6.08370584e+07  6.02047033e+07  5.91925792e+07  5.84917230e+07\n",
      "  5.80023554e+07  5.74066287e+07  5.67204542e+07  5.60498599e+07\n",
      "  5.54246460e+07  5.50692007e+07  5.45369856e+07  5.43738703e+07\n",
      "  5.38710725e+07  5.33707983e+07  5.31868971e+07  5.28507487e+07\n",
      "  5.20051264e+07  5.24011113e+07  5.18977150e+07  5.11215433e+07\n",
      "  5.13367725e+07  5.06192722e+07  5.01831694e+07  4.97528647e+07\n",
      "  4.90137038e+07  4.94609326e+07  4.95687686e+07  4.87223355e+07\n",
      "  4.78428772e+07  4.73388908e+07  4.75818020e+07  4.68154241e+07\n",
      "  4.69189780e+07  4.58265659e+07  4.56387138e+07  4.53464731e+07\n",
      "  4.48166205e+07  4.45676877e+07  4.42606683e+07  4.40613257e+07\n",
      "  4.37857321e+07  4.32750351e+07  4.31480197e+07  4.25733625e+07\n",
      "  4.21130954e+07  4.20199721e+07  4.09349301e+07  4.13439302e+07\n",
      "  4.14116956e+07  4.06539525e+07  3.63460611e+07  3.65244122e+07\n",
      "  4.02830229e+07  3.69997144e+07  3.74140666e+07  3.98512017e+07\n",
      "  3.88945567e+07  3.96722702e+07  3.83421483e+07  3.94489253e+07\n",
      "  3.79771748e+07  3.94014626e+07  3.76744012e+07  3.82300840e+07\n",
      "  3.86754498e+07  3.77874701e+07  3.61965965e+07  3.57688758e+07\n",
      "  3.55143135e+07  3.56754278e+07  3.49776458e+07  3.52551780e+07\n",
      "  3.48262545e+07  3.45598549e+07  3.43369271e+07  3.42403562e+07\n",
      "  3.37781997e+07  3.36292797e+07  3.30964165e+07  3.34598558e+07\n",
      "  3.33019640e+07  3.28809538e+07  3.26729895e+07  3.23683237e+07\n",
      "  3.22420067e+07  3.18633826e+07  3.16395447e+07  3.14871046e+07\n",
      "  3.12754064e+07  3.08582026e+07  3.07870830e+07  3.04917505e+07\n",
      "  3.03775209e+07  3.00593853e+07  2.97559648e+07  2.93590774e+07\n",
      "  2.94641574e+07  2.91587223e+07  2.92246473e+07  2.89001860e+07\n",
      "  2.81491686e+07  2.83818185e+07  2.84364107e+07  2.74859610e+07\n",
      "  2.76694426e+07  2.79339898e+07  2.79710514e+07  2.72238049e+07\n",
      "  2.68862412e+07  2.67808652e+07  2.65696542e+07  2.62308211e+07\n",
      "  2.59887179e+07  2.58902639e+07  2.63534240e+07  2.61695688e+07\n",
      "  2.56579506e+07  2.54175978e+07  2.50071982e+07  2.52241174e+07\n",
      "  2.46781134e+07  2.48960824e+07  2.44685626e+07  2.45659401e+07\n",
      "  2.40800228e+07  2.42470918e+07  2.39637874e+07  2.38823537e+07\n",
      "  2.34951976e+07  2.31227832e+07  2.28900850e+07  2.35597053e+07\n",
      "  2.24168561e+07  2.27163491e+07  2.27388395e+07  2.26398359e+07\n",
      "  2.22827835e+07  2.20115187e+07  2.16094551e+07  2.18470755e+07\n",
      "  2.21331590e+07  2.17903078e+07  2.12743039e+07  2.09915170e+07\n",
      "  2.10335605e+07  2.07446522e+07  2.06251246e+07  1.40496915e+07\n",
      "  2.04416808e+07  2.01849668e+07  1.99188275e+07  2.00759770e+07\n",
      "  1.42441674e+07  2.04879292e+07  1.43278146e+07  1.96500153e+07\n",
      "  1.94485090e+07  1.45652265e+07  1.46908344e+07  1.48246073e+07\n",
      "  1.90264435e+07  1.92949248e+07  1.92793979e+07  1.49577620e+07\n",
      "  1.49786619e+07  1.88401542e+07  1.88009299e+07  1.86522902e+07\n",
      "  1.51336639e+07  1.51905700e+07  1.53477056e+07  1.85290620e+07\n",
      "  1.55933755e+07  1.81559616e+07  1.57551290e+07  1.79639395e+07\n",
      "  1.59268890e+07  1.60577008e+07  1.83399807e+07  1.83841081e+07\n",
      "  1.61739227e+07  1.77544640e+07  1.75175221e+07  1.66423219e+07\n",
      "  1.63471690e+07  1.76034339e+07  1.68497494e+07  1.63760323e+07\n",
      "  1.70691269e+07  1.71380074e+07  1.74032149e+07  1.69705378e+07\n",
      "  1.66808344e+07  1.20811364e+07  1.22124057e+07  1.23276513e+07\n",
      "  1.26070636e+07  1.34208469e+07  1.37944041e+07  1.36248725e+07\n",
      "  1.39753845e+07  1.32068847e+07  1.27605559e+07  1.31056568e+07\n",
      "  1.30528291e+07  1.24080290e+07  1.20586692e+07  1.18047304e+07\n",
      "  1.16687958e+07  1.15964729e+07  1.14406862e+07  1.12935644e+07\n",
      "  1.12601426e+07  1.12054629e+07  1.09703708e+07  1.06663222e+07\n",
      "  1.07375285e+07  8.28727528e+06  1.03637187e+07  1.02350259e+07\n",
      "  9.71105054e+06  1.00934911e+07  9.38055433e+06  8.99215638e+06\n",
      "  8.51359151e+06  1.00180870e+07  9.59841854e+06  9.86202675e+06\n",
      "  8.83027700e+06  9.23817084e+06  1.08521815e+07  9.55355813e+06\n",
      "  1.08094129e+07  8.59540097e+06  8.71900575e+06  8.67552439e+06\n",
      "  8.76495857e+06  1.04941054e+07  8.40233429e+06  7.93796393e+06\n",
      "  7.84604415e+06  7.79296019e+06  7.67776026e+06  7.86869312e+06\n",
      "  7.52684440e+06  7.62642160e+06  7.35707672e+06  6.87113119e+06\n",
      "  7.27336875e+06  7.17299305e+06  7.10728306e+06  7.07293178e+06\n",
      "  7.25180050e+06  6.62344359e+06  6.78815322e+06  6.37959474e+06\n",
      "  6.57013971e+06  6.50872742e+06  6.25538334e+06  6.15191103e+06\n",
      "  6.20329704e+06  6.00927957e+06  5.93802643e+06  5.86643720e+06\n",
      "  5.77317385e+06  5.66049808e+06  5.74074001e+06  5.54283513e+06\n",
      "  3.58134469e+06  3.61805672e+06  3.69394382e+06  3.74110763e+06\n",
      "  3.72380383e+06  3.79518276e+06  5.30160600e+06  5.20274758e+06\n",
      "  3.90012238e+06  5.17619239e+06  4.13259424e+06  4.19170843e+06\n",
      "  4.08625984e+06  4.29027405e+06  5.10734002e+06  4.38061828e+06\n",
      "  4.40878587e+06  4.03689704e+06  4.54991360e+06  4.01430052e+06\n",
      "  4.60067687e+06  4.88055980e+06  4.77590995e+06  4.33370006e+06\n",
      "  4.80352810e+06  4.63218747e+06  5.07839785e+06  4.98818591e+06\n",
      "  5.00157864e+06  5.01028839e+06  2.91632017e+06  2.95285259e+06\n",
      "  3.19649842e+06  3.36502470e+06  3.31360004e+06  3.32691449e+06\n",
      "  2.99885121e+06  3.27154727e+06  3.08138685e+06  3.12796474e+06\n",
      "  3.03591676e+06  3.11996210e+06  2.87210696e+06  2.83663821e+06\n",
      "  2.81295150e+06  2.74271547e+06  2.69556940e+06  2.58135850e+06\n",
      "  2.54692786e+06  2.50659454e+06  2.46879861e+06  2.45049312e+06\n",
      "  2.42252935e+06  2.41309302e+06  2.10479745e+06  2.06157576e+06\n",
      "  1.96961409e+06  2.17433511e+06  2.24982017e+06  2.31345241e+06\n",
      "  2.34069806e+06  1.92798277e+06  1.76749249e+06  2.26331073e+06\n",
      "  2.16782062e+06  1.90491535e+06  1.89707997e+06  2.32795180e+06\n",
      "  1.81223493e+06  1.82495890e+06  1.67860501e+06  1.63946465e+06\n",
      "  1.59092314e+06  1.61833418e+06  1.57239922e+06  1.55874962e+06\n",
      "  1.54937170e+06  1.51577259e+06  1.49532514e+06  1.47052820e+06\n",
      "  1.38139535e+06  1.41549211e+06  1.43205306e+06  1.33094595e+06\n",
      "  1.34491299e+06  1.26301942e+06  1.36914611e+06  1.21930397e+06\n",
      "  1.17813089e+06  1.16784726e+06  1.14269693e+06  1.10040339e+06\n",
      "  1.08422459e+06  1.06608595e+06  1.02761499e+06  9.36908902e+05\n",
      "  9.51041514e+05  1.01468775e+06  1.03660220e+06  1.00814323e+06\n",
      "  9.89581636e+05  9.66001828e+05  8.60861717e+05  8.63615385e+05\n",
      "  7.81634972e+05  7.77747265e+05  8.11540420e+05  8.23146899e+05\n",
      "  8.25445289e+05  3.70348286e+05  6.81337264e+05  3.79417649e+05\n",
      "  3.81009669e+05  3.83655944e+05  3.86553570e+05  5.40690967e+05\n",
      "  5.24538970e+05  4.20005994e+05  6.66053055e+05  4.32403668e+05\n",
      "  4.85818354e+05  5.76754270e+05  4.76307478e+05  6.53158521e+05\n",
      "  6.60850900e+05  4.61759691e+05  4.65506820e+05  6.41718473e+05\n",
      "  4.54136946e+05  6.34021799e+05  6.01606565e+05  6.08055458e+05\n",
      "  6.22431155e+05  6.11093658e+05  6.19617807e+05  4.41577963e+05\n",
      "  4.42506919e+05  3.60877618e+05  3.30243040e+05  3.32923333e+05\n",
      "  3.09274416e+05  3.00549413e+05  2.85592659e+05  2.71163490e+05\n",
      "  2.56483144e+05  2.64260344e+05  2.90725848e+05  2.68085106e+05\n",
      "  2.21835387e+05  2.30227635e+05  2.15570231e+05  2.13060349e+05\n",
      "  2.14260550e+05  2.01844440e+05  1.98796032e+05  1.92231436e+05\n",
      "  1.71383693e+05  1.87148943e+05  1.88375020e+05  1.80072970e+05\n",
      "  1.84942483e+05  1.59655433e+05  1.53244315e+05  1.48487344e+05\n",
      "  1.37131072e+05  1.35710871e+05  7.89682854e+04  8.36144622e+04\n",
      "  1.31016044e+05  8.89219579e+04  1.15394345e+05  1.07429893e+05\n",
      "  9.82211233e+04  9.70247745e+04  1.21557402e+05  1.28682026e+05\n",
      "  1.28644434e+05  1.19903589e+05  8.64866938e+04  1.08657421e+05\n",
      "  1.16611680e+05  9.58873731e+04  7.44925800e+04  7.33677560e+04\n",
      "  6.42456150e+04  6.10600913e+04  5.72718540e+04  5.60922652e+04\n",
      "  5.29663890e+04  5.25682585e+04  4.84862580e+04  4.73003850e+04\n",
      "  4.63564684e+04  4.96345834e+04  4.42260189e+04  4.03531337e+04\n",
      "  3.52228954e+04  3.63566792e+04  4.16630580e+04  4.14375521e+04\n",
      "  2.63415358e+04  2.20208478e+04  3.07980586e+04  2.78330652e+04\n",
      "  3.10603702e+04  2.80997923e+04  1.94371544e+04  1.80691112e+04\n",
      "  1.71281806e+04  1.68023353e+04  1.40885975e+04  1.32085466e+04\n",
      "  1.38310779e+04  1.22578320e+04  1.13966854e+04  9.44921750e+03\n",
      "  9.58836126e+03  8.36244451e+03  8.09628836e+03  7.41481476e+03\n",
      "  7.34245812e+03  6.66534386e+03  6.35142770e+03  6.18113900e+03\n",
      "  5.94639775e+03  4.94211549e+03  3.87687743e+03  3.33342499e+03\n",
      "  3.42088251e+03  3.64631483e+03  2.29365974e+03  2.12017983e+03\n",
      "  2.07731277e+03  1.77827544e+03  1.63701481e+03  7.60749062e+02\n",
      "  6.21305472e+02  1.11743397e+03  1.02151119e+03  1.41633989e+03\n",
      "  1.42274421e+03  3.99087071e+02  1.78426668e+02  4.85919155e+01\n",
      "  5.21479774e+01  1.45679280e+02  1.42402797e+02  3.14854195e+00\n",
      "  1.65700938e-08 -2.20609302e-09 -6.52542116e-10 -1.59210884e-11\n",
      " -4.40783423e-11  0.00000000e+00  0.00000000e+00  0.00000000e+00\n",
      "  0.00000000e+00  0.00000000e+00  0.00000000e+00  0.00000000e+00\n",
      "  0.00000000e+00  0.00000000e+00  0.00000000e+00  0.00000000e+00\n",
      "  0.00000000e+00  0.00000000e+00  0.00000000e+00  0.00000000e+00\n",
      "  0.00000000e+00  0.00000000e+00  0.00000000e+00  0.00000000e+00\n",
      "  0.00000000e+00  0.00000000e+00  0.00000000e+00  0.00000000e+00\n",
      "  0.00000000e+00  0.00000000e+00  0.00000000e+00  0.00000000e+00\n",
      "  0.00000000e+00  0.00000000e+00  0.00000000e+00  0.00000000e+00\n",
      "  0.00000000e+00  0.00000000e+00  0.00000000e+00  0.00000000e+00\n",
      "  0.00000000e+00  0.00000000e+00  0.00000000e+00  0.00000000e+00\n",
      "  0.00000000e+00  0.00000000e+00  0.00000000e+00  0.00000000e+00\n",
      "  0.00000000e+00  0.00000000e+00  0.00000000e+00  0.00000000e+00\n",
      "  0.00000000e+00  0.00000000e+00  0.00000000e+00  0.00000000e+00\n",
      "  0.00000000e+00  0.00000000e+00  0.00000000e+00  0.00000000e+00\n",
      "  0.00000000e+00  0.00000000e+00  0.00000000e+00  0.00000000e+00\n",
      "  0.00000000e+00  0.00000000e+00  0.00000000e+00  0.00000000e+00\n",
      "  0.00000000e+00  0.00000000e+00  0.00000000e+00  0.00000000e+00]\n"
     ]
    },
    {
     "data": {
      "image/png": "[encoded data removed]",
      "text/plain": [
       "<Figure size 432x288 with 9 Axes>"
      ]
     },
     "metadata": {
      "needs_background": "light"
     },
     "output_type": "display_data"
    }
   ],
   "source": [
    "p.pca()"
   ]
  },
  {
   "cell_type": "code",
   "execution_count": 208,
   "metadata": {},
   "outputs": [
    {
     "data": {
      "image/png": "[encoded data removed]",
      "text/plain": [
       "<Figure size 432x288 with 9 Axes>"
      ]
     },
     "metadata": {
      "needs_background": "light"
     },
     "output_type": "display_data"
    },
    {
     "data": {
      "image/png": "[encoded data removed]",
      "text/plain": [
       "<Figure size 432x288 with 9 Axes>"
      ]
     },
     "metadata": {
      "needs_background": "light"
     },
     "output_type": "display_data"
    }
   ],
   "source": [
    "import skimage\n",
    "skimage.util.random_noise(X[0], mode='gaussian', seed=None, clip=True)\n",
    "noisy = X.copy()\n",
    "for i in range(60000):\n",
    "    noisy[i] = skimage.util.random_noise(noisy[i], mode='gaussian', seed=None, clip=True,mean = 0,var = 0.15)\n",
    "pca = PCA(noisy,784)\n",
    "pca.apply()"
   ]
  },
  {
   "cell_type": "code",
   "execution_count": null,
   "metadata": {},
   "outputs": [],
   "source": []
  }
 ],
 "metadata": {
  "kernelspec": {
   "display_name": "Python 3",
   "language": "python",
   "name": "python3"
  },
  "language_info": {
   "codemirror_mode": {
    "name": "ipython",
    "version": 3
   },
   "file_extension": ".py",
   "mimetype": "text/x-python",
   "name": "python",
   "nbconvert_exporter": "python",
   "pygments_lexer": "ipython3",
   "version": "3.7.1"
  }
 },
 "nbformat": 4,
 "nbformat_minor": 4
}
