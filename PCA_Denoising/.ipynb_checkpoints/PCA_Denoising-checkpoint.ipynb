{
 "cells": [
  {
   "cell_type": "code",
   "execution_count": 5,
   "metadata": {},
   "outputs": [],
   "source": [
    "### Computed a covariance matrix and the Eigen vector basis using the vectorized representation  for a given set of  images of a single digit.\n",
    "\n",
    "### Project each image onto this PCA space using i) all Eigen vectors ii) Selected Eigen vectors with different values of energy thresholds (computed using the top k Eigen values) and Reconstructed the original images using the projected data obtained in the cases above \n",
    "\n",
    "### Added 20% noise to the images, and performed the same experiment as above. "
   ]
  },
  {
   "cell_type": "markdown",
   "metadata": {},
   "source": [
    "# Visualizing the numbers"
   ]
  },
  {
   "cell_type": "code",
   "execution_count": 3,
   "metadata": {
    "scrolled": false
   },
   "outputs": [
    {
     "name": "stdout",
     "output_type": "stream",
     "text": [
      "total number of sevens in the data  6265\n",
      "Image plots for all the eigen vactors\n"
     ]
    },
    {
     "data": {
      "image/png": "[encoded data removed]",
      "text/plain": [
       "<Figure size 432x288 with 6 Axes>"
      ]
     },
     "metadata": {
      "needs_background": "light"
     },
     "output_type": "display_data"
    },
    {
     "name": "stdout",
     "output_type": "stream",
     "text": [
      "Image plots for selected  'z' eigen vactors \n"
     ]
    },
    {
     "data": {
      "image/png": "[encoded data removed]",
      "text/plain": [
       "<Figure size 432x288 with 6 Axes>"
      ]
     },
     "metadata": {
      "needs_background": "light"
     },
     "output_type": "display_data"
    },
    {
     "name": "stdout",
     "output_type": "stream",
     "text": [
      "Image plots with noise before using PCA\n"
     ]
    },
    {
     "data": {
      "image/png": "[encoded data removed]",
      "text/plain": [
       "<Figure size 432x288 with 6 Axes>"
      ]
     },
     "metadata": {
      "needs_background": "light"
     },
     "output_type": "display_data"
    },
    {
     "name": "stdout",
     "output_type": "stream",
     "text": [
      "Image plots with noise  selected eigen vactors \n"
     ]
    },
    {
     "data": {
      "image/png": "[encoded data removed]",
      "text/plain": [
       "<Figure size 432x288 with 6 Axes>"
      ]
     },
     "metadata": {
      "needs_background": "light"
     },
     "output_type": "display_data"
    }
   ],
   "source": [
    "import gzip\n",
    "import numpy as np\n",
    "import matplotlib.pyplot as plt\n",
    "import pandas as pd\n",
    "import seaborn as sn\n",
    "from numpy import linalg as LA\n",
    "from scipy.linalg import eigh\n",
    "import math\n",
    "\n",
    "def training_images():\n",
    "    with gzip.open('train-images-idx3-ubyte.gz', 'r') as f:\n",
    "        magic_number = int.from_bytes(f.read(4), 'big')\n",
    "        image_count = int.from_bytes(f.read(4), 'big')\n",
    "        row_count = int.from_bytes(f.read(4), 'big')\n",
    "        column_count = int.from_bytes(f.read(4), 'big')\n",
    "        image_data = f.read()\n",
    "        images = np.frombuffer(image_data, dtype=np.uint8)\\\n",
    "            .reshape((image_count, row_count, column_count))\n",
    "        return images\n",
    "\n",
    "\n",
    "def training_labels():\n",
    "    with gzip.open('train-labels-idx1-ubyte.gz', 'r') as f:\n",
    "        magic_number = int.from_bytes(f.read(4), 'big')\n",
    "        label_count = int.from_bytes(f.read(4), 'big')\n",
    "        label_data = f.read()\n",
    "        labels = np.frombuffer(label_data, dtype=np.uint8)\n",
    "        return labels\n",
    "    \n",
    "def plotting_data(data):\n",
    "    for i in range(6):\n",
    "        pixels = data[i][:]\n",
    "        pixels = 255-np.array(pixels, dtype='uint8')\n",
    "        pixels = pixels.reshape((28,28))\n",
    "        plt.subplot(331 + i)\n",
    "        plt.imshow(pixels, cmap='gray')\n",
    "    plt.show()\n",
    "\n",
    "def Eigen_Vectors(cov):   \n",
    "    vals, vectrs = LA.eig(cov)\n",
    "    return vals, np.array(vectrs)\n",
    "    \n",
    "pl = list(training_images())\n",
    "pi = list(training_labels())\n",
    "\n",
    "def Load_Digit_Seven():\n",
    "    sevens = []\n",
    "    for val in pi:\n",
    "        if val == 7:\n",
    "            sevens.append(pl[pi.index(val)])\n",
    "    sevens = np.array(sevens)   \n",
    "    print(\"total number of sevens in the data \",len(sevens))\n",
    "    main_data = []\n",
    "    for mat in sevens:\n",
    "        main_data.append(mat.flatten())\n",
    "    df = pd.DataFrame(main_data[:200])\n",
    "    return main_data\n",
    "\n",
    "df = Load_Digit_Seven()\n",
    "print(\"Image plots for all the eigen vactors\")\n",
    "plotting_data(df)\n",
    "\n",
    "def sorted_eig(matrix_cov):   \n",
    "    lambdas, vs = LA.eig(matrix_cov)\n",
    "    return lambdas, np.array(vs)\n",
    "    \n",
    "def pca(df,z):\n",
    "    mean_data = np.mean(df,axis = 0)\n",
    "    sample_vector = np.array(df)-mean_data\n",
    "    covar_matrix = np.matmul(sample_vector.T , sample_vector)\n",
    "    values, vectors = sorted_eig(covar_matrix)\n",
    "    vectors = vectors[:,:z]\n",
    "    transfer = np.matmul(sample_vector,vectors)\n",
    "    projection = np.matmul(transfer,vectors.T) \n",
    "    projected = projection + mean_data\n",
    "    plotting_data(projected)\n",
    "\n",
    "print(\"Image plots for selected  'z' eigen vactors \")\n",
    "\n",
    "z= 21\n",
    "pca(df,z)\n",
    "\n",
    "import skimage.util as sk\n",
    "sk.random_noise(df[0], mode='gaussian', seed=None, clip=True)\n",
    "data_to_noise = df.copy()\n",
    "noise_induced = [sk.random_noise(data_to_noise[i], mode='gaussian', seed=None, clip=True, mean = 0, var = 0.15) for i in range(6265)]\n",
    "print(\"Image plots with noise before using PCA\")\n",
    "plotting_data(noise_induced)\n",
    "print(\"Image plots with noise  selected eigen vactors \")\n",
    "pca(noise_induced,784)\n"
   ]
  },
  {
   "cell_type": "markdown",
   "metadata": {},
   "source": [
    "# PCA based renoising the data"
   ]
  },
  {
   "cell_type": "code",
   "execution_count": 4,
   "metadata": {},
   "outputs": [
    {
     "name": "stdout",
     "output_type": "stream",
     "text": [
      "Image plots for before using PCA\n"
     ]
    },
    {
     "data": {
      "image/png": "[encoded data removed]",
      "text/plain": [
       "<Figure size 432x288 with 6 Axes>"
      ]
     },
     "metadata": {
      "needs_background": "light"
     },
     "output_type": "display_data"
    },
    {
     "name": "stdout",
     "output_type": "stream",
     "text": [
      "Image plots for selected eigen vactors \n"
     ]
    },
    {
     "data": {
      "image/png": "[encoded data removed]",
      "text/plain": [
       "<Figure size 432x288 with 6 Axes>"
      ]
     },
     "metadata": {
      "needs_background": "light"
     },
     "output_type": "display_data"
    }
   ],
   "source": [
    "import skimage.util as sk\n",
    "sk.random_noise(df[0], mode='gaussian', seed=None, clip=True)\n",
    "data_to_noise = df.copy()\n",
    "noise_induced = [sk.random_noise(data_to_noise[i], mode='gaussian', seed=None, clip=True, mean = 0, var = 0.15) for i in range(6265)]\n",
    "print(\"Image plots for before using PCA\")\n",
    "plotting_data(noise_induced)\n",
    "print(\"Image plots for selected eigen vactors \")\n",
    "pca(noise_induced,784)\n"
   ]
  }
 ],
 "metadata": {
  "kernelspec": {
   "display_name": "Python 3",
   "language": "python",
   "name": "python3"
  },
  "language_info": {
   "codemirror_mode": {
    "name": "ipython",
    "version": 3
   },
   "file_extension": ".py",
   "mimetype": "text/x-python",
   "name": "python",
   "nbconvert_exporter": "python",
   "pygments_lexer": "ipython3",
   "version": "3.7.1"
  }
 },
 "nbformat": 4,
 "nbformat_minor": 2
}
